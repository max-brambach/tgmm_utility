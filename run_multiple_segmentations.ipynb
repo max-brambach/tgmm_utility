{
 "cells": [
  {
   "cell_type": "markdown",
   "id": "f9fe5de9",
   "metadata": {},
   "source": [
    "# Nuclear segmentation\n",
    "In this notebook, we use TGMM (McDole et al. 2018) to segment our data from the SPIM.\n",
    "To that end, we are using `tgmm_utility.py` to call the segmentation software and to distribute the tasks across the cores of the computer.\n",
    "\n",
    "Moreover, we use this framework to run multiple segmentations using different parameter sets (speciffically the `maxPercentileTrimSV` parameter) that perform differently in different regions of the sample. Subsequently we merge the segmentations based on a distance criterion. Oversegmentation artifacts and false positives are eliminated using a histogram threshold in a later step."
   ]
  },
  {
   "cell_type": "code",
   "execution_count": 1,
   "id": "1bceef2c",
   "metadata": {},
   "outputs": [],
   "source": [
    "import glob\n",
    "import os\n",
    "import datetime\n",
    "import subprocess\n",
    "from multiprocessing import Pool\n",
    "import numpy as np\n",
    "from pathlib import Path\n",
    "import glob\n",
    "import pandas as pd\n",
    "from scipy.spatial import KDTree\n",
    "import tqdm\n",
    "\n",
    "from SegmentationIO import read_tgmm\n",
    "from tgmm_utility import RunTGMM\n"
   ]
  },
  {
   "cell_type": "markdown",
   "id": "25e73859",
   "metadata": {},
   "source": [
    "## Parameters\n",
    "First, we define the parameters of the segmentation."
   ]
  },
  {
   "cell_type": "code",
   "execution_count": 2,
   "id": "1b2eb190",
   "metadata": {},
   "outputs": [],
   "source": [
    "params = {\n",
    "    'imgFilePattern': None,\n",
    "    'anisotropyZ':1,\n",
    "    'backgroundThreshold': None,\n",
    "    'persistanceSegmentationTau':5,\n",
    "    'betaPercentageOfN_k':0.05,\n",
    "    'nuPercentageOfN_k':1.0,\n",
    "    'alphaPercentage':0.7,\n",
    "    'maxIterEM':100,\n",
    "    'tolLikelihood':1e-6,\n",
    "    'regularizePrecisionMatrixConstants_lambdaMin':0.02,\n",
    "    'regularizePrecisionMatrixConstants_lambdaMax':0.1,\n",
    "    'regularizePrecisionMatrixConstants_maxExcentricity':9.0,\n",
    "    'temporalWindowForLogicalRules':5,\n",
    "    'thrBackgroundDetectorHigh':1.1,\n",
    "    'thrBackgroundDetectorLow':0.2,\n",
    "    'SLD_lengthTMthr':5,\n",
    "    'radiusMedianFilter':1,\n",
    "    'minTau':2,\n",
    "    'conn3D':74,\n",
    "    'estimateOpticalFlow':0,\n",
    "    'maxDistPartitionNeigh':80.0,\n",
    "    'deathThrOpticalFlow':-1,\n",
    "    'minNucleiSize':8,\n",
    "    'maxNucleiSize':3000,\n",
    "    'maxPercentileTrimSV':0.2,\n",
    "    'conn3DsvTrim':6,\n",
    "    'maxNumKNNsupervoxel':10,\n",
    "    'maxDistKNNsupervoxel':41.0,\n",
    "    'thrSplitScore':-1.0,\n",
    "    'thrCellDivisionPlaneDistance':12.403,\n",
    "    'thrCellDivisionWithTemporalWindow':0.456,\n",
    "}\n"
   ]
  },
  {
   "cell_type": "code",
   "execution_count": 6,
   "id": "a3e8716d",
   "metadata": {},
   "outputs": [],
   "source": [
    "import pandas as pd\n",
    "\n",
    "dd = pd.DataFrame.from_dict(params, orient='index')"
   ]
  },
  {
   "cell_type": "code",
   "execution_count": 8,
   "id": "142747a3",
   "metadata": {},
   "outputs": [],
   "source": [
    "dd.to_csv('params.csv')"
   ]
  },
  {
   "cell_type": "markdown",
   "id": "7ff636ab",
   "metadata": {},
   "source": [
    "## Organisation of image files and paths\n",
    "Next, we set up the environment to run the segmentations. For that, we get the locations of the image files and the corresponding background thresholds."
   ]
  },
  {
   "cell_type": "code",
   "execution_count": 3,
   "id": "2a0bcad7",
   "metadata": {},
   "outputs": [],
   "source": [
    "# klb_path = Path('Z:/data/m.brambach/klbs/')\n",
    "klb_path = Path('Z:/data/m.brambach/2022-12-11-cdh1mKO/segment/')\n",
    "files = list(klb_path.glob('*.tif'))\n"
   ]
  },
  {
   "cell_type": "code",
   "execution_count": 4,
   "id": "3d357493",
   "metadata": {},
   "outputs": [],
   "source": [
    "output_directory = Path('Z:\\data\\m.brambach\\segmentation')\n",
    "local_executables = Path(r'C:\\Users\\m.brambach\\Documents\\TGMM\\Tracking_GMM_project-v0.3.0-win64\\bin')"
   ]
  },
  {
   "cell_type": "code",
   "execution_count": 5,
   "id": "44acfd13",
   "metadata": {},
   "outputs": [],
   "source": [
    "bg_threshold_file = pd.DataFrame(files, columns=['file'])\n",
    "bg_threshold_file['threshold'] = 0\n",
    "bg_threshold_file.to_csv(str(klb_path/'bg_thresholds.csv'))"
   ]
  },
  {
   "cell_type": "code",
   "execution_count": 6,
   "id": "13324ad0",
   "metadata": {},
   "outputs": [
    {
     "data": {
      "text/plain": [
       "{'Z:\\\\data\\\\m.brambach\\\\2022-12-11-cdh1mKO\\\\segment\\\\C1-2022-12-11-cdh1mKO-dapi-cdh1-p63-48hpf-s01-v01.tif': 1540,\n",
       " 'Z:\\\\data\\\\m.brambach\\\\2022-12-11-cdh1mKO\\\\segment\\\\C1-2022-12-11-cdh1mKO-dapi-cdh1-p63-48hpf-s01-v02.tif': 1540,\n",
       " 'Z:\\\\data\\\\m.brambach\\\\2022-12-11-cdh1mKO\\\\segment\\\\C1-2022-12-11-cdh1mKO-dapi-cdh1-p63-48hpf-s01-v03.tif': 1540,\n",
       " 'Z:\\\\data\\\\m.brambach\\\\2022-12-11-cdh1mKO\\\\segment\\\\C1-2022-12-11-cdh1mKO-dapi-cdh1-p63-48hpf-s01-v04.tif': 1540,\n",
       " 'Z:\\\\data\\\\m.brambach\\\\2022-12-11-cdh1mKO\\\\segment\\\\C1-2022-12-11-cdh1mKO-dapi-cdh1-p63-48hpf-s02-v01.tif': 1540,\n",
       " 'Z:\\\\data\\\\m.brambach\\\\2022-12-11-cdh1mKO\\\\segment\\\\C1-2022-12-11-cdh1mKO-dapi-cdh1-p63-48hpf-s02-v02.tif': 1540,\n",
       " 'Z:\\\\data\\\\m.brambach\\\\2022-12-11-cdh1mKO\\\\segment\\\\C1-2022-12-11-cdh1mKO-dapi-cdh1-p63-48hpf-s02-v03.tif': 1540,\n",
       " 'Z:\\\\data\\\\m.brambach\\\\2022-12-11-cdh1mKO\\\\segment\\\\C1-2022-12-11-cdh1mKO-dapi-cdh1-p63-48hpf-s03-v01.tif': 1540,\n",
       " 'Z:\\\\data\\\\m.brambach\\\\2022-12-11-cdh1mKO\\\\segment\\\\C1-2022-12-11-cdh1mKO-dapi-cdh1-p63-48hpf-s03-v02.tif': 1540,\n",
       " 'Z:\\\\data\\\\m.brambach\\\\2022-12-11-cdh1mKO\\\\segment\\\\C1-2022-12-11-cdh1mKO-dapi-cdh1-p63-48hpf-s03-v03.tif': 1540,\n",
       " 'Z:\\\\data\\\\m.brambach\\\\2022-12-11-cdh1mKO\\\\segment\\\\C1-2022-12-11-cdh1mKO-dapi-cdh1-p63-48hpf-s03-v04.tif': 1540,\n",
       " 'Z:\\\\data\\\\m.brambach\\\\2022-12-11-cdh1mKO\\\\segment\\\\C1-2022-12-11-cdh1mKO-dapi-cdh1-p63-48hpf-s04-v01.tif': 1540,\n",
       " 'Z:\\\\data\\\\m.brambach\\\\2022-12-11-cdh1mKO\\\\segment\\\\C1-2022-12-11-cdh1mKO-dapi-cdh1-p63-48hpf-s04-v02.tif': 1540,\n",
       " 'Z:\\\\data\\\\m.brambach\\\\2022-12-11-cdh1mKO\\\\segment\\\\C1-2022-12-11-cdh1mKO-dapi-cdh1-p63-48hpf-s04-v03.tif': 1540,\n",
       " 'Z:\\\\data\\\\m.brambach\\\\2022-12-11-cdh1mKO\\\\segment\\\\C1-2022-12-11-cdh1mKO-dapi-cdh1-p63-48hpf-s04-v04.tif': 1540,\n",
       " 'Z:\\\\data\\\\m.brambach\\\\2022-12-11-cdh1mKO\\\\segment\\\\C1-2022-12-11-cdh1mKO-dapi-cdh1-p63-48hpf-s05-v01.tif': 1540,\n",
       " 'Z:\\\\data\\\\m.brambach\\\\2022-12-11-cdh1mKO\\\\segment\\\\C1-2022-12-11-cdh1mKO-dapi-cdh1-p63-48hpf-s05-v02.tif': 1540,\n",
       " 'Z:\\\\data\\\\m.brambach\\\\2022-12-11-cdh1mKO\\\\segment\\\\C1-2022-12-11-cdh1mKO-dapi-cdh1-p63-48hpf-s05-v03.tif': 1540,\n",
       " 'Z:\\\\data\\\\m.brambach\\\\2022-12-11-cdh1mKO\\\\segment\\\\C1-2022-12-11-cdh1mKO-dapi-cdh1-p63-48hpf-s05-v04.tif': 1540,\n",
       " 'Z:\\\\data\\\\m.brambach\\\\2022-12-11-cdh1mKO\\\\segment\\\\C1-2022-12-11-cdh1mKO-dapi-cdh1-p63-48hpf-s06-v01.tif': 1540,\n",
       " 'Z:\\\\data\\\\m.brambach\\\\2022-12-11-cdh1mKO\\\\segment\\\\C1-2022-12-11-cdh1mKO-dapi-cdh1-p63-48hpf-s06-v02.tif': 1540,\n",
       " 'Z:\\\\data\\\\m.brambach\\\\2022-12-11-cdh1mKO\\\\segment\\\\C1-2022-12-11-cdh1mKO-dapi-cdh1-p63-48hpf-s06-v03.tif': 1540,\n",
       " 'Z:\\\\data\\\\m.brambach\\\\2022-12-11-cdh1mKO\\\\segment\\\\C1-2022-12-11-cdh1mKO-dapi-cdh1-p63-48hpf-s06-v04.tif': 1540,\n",
       " 'Z:\\\\data\\\\m.brambach\\\\2022-12-11-cdh1mKO\\\\segment\\\\C1-2022-12-11-WT-dapi-cdh1-p63-48hpf-s01-v01.tif': 1540,\n",
       " 'Z:\\\\data\\\\m.brambach\\\\2022-12-11-cdh1mKO\\\\segment\\\\C1-2022-12-11-WT-dapi-cdh1-p63-48hpf-s01-v02.tif': 1540,\n",
       " 'Z:\\\\data\\\\m.brambach\\\\2022-12-11-cdh1mKO\\\\segment\\\\C1-2022-12-11-WT-dapi-cdh1-p63-48hpf-s01-v03.tif': 1540,\n",
       " 'Z:\\\\data\\\\m.brambach\\\\2022-12-11-cdh1mKO\\\\segment\\\\C1-2022-12-11-WT-dapi-cdh1-p63-48hpf-s02-v01.tif': 1540,\n",
       " 'Z:\\\\data\\\\m.brambach\\\\2022-12-11-cdh1mKO\\\\segment\\\\C1-2022-12-11-WT-dapi-cdh1-p63-48hpf-s02-v02.tif': 1540,\n",
       " 'Z:\\\\data\\\\m.brambach\\\\2022-12-11-cdh1mKO\\\\segment\\\\C1-2022-12-11-WT-dapi-cdh1-p63-48hpf-s02-v03.tif': 1540,\n",
       " 'Z:\\\\data\\\\m.brambach\\\\2022-12-11-cdh1mKO\\\\segment\\\\C1-2022-12-11-WT-dapi-cdh1-p63-48hpf-s02-v04.tif': 1540,\n",
       " 'Z:\\\\data\\\\m.brambach\\\\2022-12-11-cdh1mKO\\\\segment\\\\C1-2022-12-11-WT-dapi-cdh1-p63-48hpf-s03-v01.tif': 1540,\n",
       " 'Z:\\\\data\\\\m.brambach\\\\2022-12-11-cdh1mKO\\\\segment\\\\C1-2022-12-11-WT-dapi-cdh1-p63-48hpf-s03-v02.tif': 1540,\n",
       " 'Z:\\\\data\\\\m.brambach\\\\2022-12-11-cdh1mKO\\\\segment\\\\C1-2022-12-11-WT-dapi-cdh1-p63-48hpf-s03-v03.tif': 1540,\n",
       " 'Z:\\\\data\\\\m.brambach\\\\2022-12-11-cdh1mKO\\\\segment\\\\C1-2022-12-11-WT-dapi-cdh1-p63-48hpf-s04-v01.tif': 1540,\n",
       " 'Z:\\\\data\\\\m.brambach\\\\2022-12-11-cdh1mKO\\\\segment\\\\C1-2022-12-11-WT-dapi-cdh1-p63-48hpf-s04-v02.tif': 1540,\n",
       " 'Z:\\\\data\\\\m.brambach\\\\2022-12-11-cdh1mKO\\\\segment\\\\C1-2022-12-11-WT-dapi-cdh1-p63-48hpf-s04-v03.tif': 1540,\n",
       " 'Z:\\\\data\\\\m.brambach\\\\2022-12-11-cdh1mKO\\\\segment\\\\C1-2022-12-11-WT-dapi-cdh1-p63-48hpf-s05-v01.tif': 1540,\n",
       " 'Z:\\\\data\\\\m.brambach\\\\2022-12-11-cdh1mKO\\\\segment\\\\C1-2022-12-11-WT-dapi-cdh1-p63-48hpf-s05-v02.tif': 1540,\n",
       " 'Z:\\\\data\\\\m.brambach\\\\2022-12-11-cdh1mKO\\\\segment\\\\C1-2022-12-11-WT-dapi-cdh1-p63-48hpf-s05-v03.tif': 1540}"
      ]
     },
     "execution_count": 6,
     "metadata": {},
     "output_type": "execute_result"
    }
   ],
   "source": [
    "bg_threshold = pd.read_csv(klb_path/'bg_thresholds_filled_in.csv')\n",
    "threshold_dict = dict(zip(bg_threshold['file'].values, bg_threshold['threshold'].values))\n",
    "threshold_dict"
   ]
  },
  {
   "cell_type": "markdown",
   "id": "46782a8c",
   "metadata": {},
   "source": [
    "## Setting up the pipeline\n",
    "Now, we need to specify the steps that need to be executed in our segmentation pipeline. Briefly, we first generate the `cf-tgmm` files that are used to call the segmentation software, run the first stage of the segmentation followed by three iterations of the second stage with different parameter sets. After that, we merge the segmentations based on the distance criterion and generate a summary `.csv` file."
   ]
  },
  {
   "cell_type": "code",
   "execution_count": 7,
   "id": "d8f10fb6",
   "metadata": {},
   "outputs": [],
   "source": [
    "def pipline(file):\n",
    "    segmentation = RunTGMM(\n",
    "        name=str(file.stem),\n",
    "        output_directory=str(output_directory),\n",
    "        local_executables=str(local_executables),\n",
    "        parameters=params,\n",
    "    )\n",
    "    segmentation.update_parameters({'imgFilePattern':str(file)[:-4],\n",
    "                                    'backgroundThreshold':threshold_dict[str(file)]})\n",
    "    segmentation.generate_tgmm_config()\n",
    "    segmentation.run_watershed_segmentation()\n",
    "    for mptsv in [0.2, 0.5, 0.7]:\n",
    "        segmentation.update_parameters({'maxPercentileTrimSV': mptsv})\n",
    "        segmentation.generate_tgmm_config()\n",
    "        segmentation.run_tgmm()\n",
    "    segmentation.get_segmentation_as_df()\n",
    "    df = segmentation.combine_segmentations()\n",
    "    df.to_csv(str(output_directory / file.stem) + '.csv')\n",
    "    return df"
   ]
  },
  {
   "cell_type": "markdown",
   "id": "293490cd",
   "metadata": {},
   "source": [
    "## Run the segmentation on multiple files"
   ]
  },
  {
   "cell_type": "code",
   "execution_count": 8,
   "id": "ade2460e",
   "metadata": {},
   "outputs": [
    {
     "name": "stderr",
     "output_type": "stream",
     "text": [
      "100%|████████████████████████████████████████████████████████████████████████████████| 39/39 [1:04:51<00:00, 99.78s/it]\n"
     ]
    }
   ],
   "source": [
    "for f in tqdm.tqdm(files):\n",
    "    pipline(f)"
   ]
  },
  {
   "cell_type": "code",
   "execution_count": null,
   "id": "3fc7b376",
   "metadata": {},
   "outputs": [],
   "source": []
  },
  {
   "cell_type": "code",
   "execution_count": null,
   "id": "c67d136e",
   "metadata": {},
   "outputs": [],
   "source": []
  },
  {
   "cell_type": "code",
   "execution_count": null,
   "id": "8a8f4264",
   "metadata": {},
   "outputs": [],
   "source": []
  },
  {
   "cell_type": "code",
   "execution_count": null,
   "id": "f0fac9d3",
   "metadata": {},
   "outputs": [],
   "source": []
  },
  {
   "cell_type": "code",
   "execution_count": null,
   "id": "7ed056a0",
   "metadata": {},
   "outputs": [],
   "source": []
  },
  {
   "cell_type": "code",
   "execution_count": null,
   "id": "ed07ddc1",
   "metadata": {},
   "outputs": [],
   "source": []
  },
  {
   "cell_type": "code",
   "execution_count": null,
   "id": "3c544fbd",
   "metadata": {},
   "outputs": [],
   "source": []
  },
  {
   "cell_type": "code",
   "execution_count": null,
   "id": "3d0ea396",
   "metadata": {},
   "outputs": [],
   "source": []
  },
  {
   "cell_type": "code",
   "execution_count": null,
   "id": "5a86252d",
   "metadata": {},
   "outputs": [],
   "source": []
  },
  {
   "cell_type": "code",
   "execution_count": null,
   "id": "c7c56051",
   "metadata": {},
   "outputs": [],
   "source": []
  },
  {
   "cell_type": "code",
   "execution_count": null,
   "id": "55325f69",
   "metadata": {},
   "outputs": [],
   "source": []
  },
  {
   "cell_type": "code",
   "execution_count": null,
   "id": "cbc43751",
   "metadata": {},
   "outputs": [],
   "source": []
  }
 ],
 "metadata": {
  "kernelspec": {
   "display_name": "Python 3 (ipykernel)",
   "language": "python",
   "name": "python3"
  },
  "language_info": {
   "codemirror_mode": {
    "name": "ipython",
    "version": 3
   },
   "file_extension": ".py",
   "mimetype": "text/x-python",
   "name": "python",
   "nbconvert_exporter": "python",
   "pygments_lexer": "ipython3",
   "version": "3.8.12"
  }
 },
 "nbformat": 4,
 "nbformat_minor": 5
}
